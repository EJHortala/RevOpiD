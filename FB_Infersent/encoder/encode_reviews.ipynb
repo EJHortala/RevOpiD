{
 "cells": [
  {
   "cell_type": "code",
   "execution_count": 2,
   "metadata": {
    "collapsed": true
   },
   "outputs": [],
   "source": [
    "# import stuff\n",
    "%load_ext autoreload\n",
    "%autoreload 2\n",
    "%matplotlib inline\n",
    "\n",
    "from random import randint\n",
    "import matplotlib\n",
    "\n",
    "import numpy as np\n",
    "import torch\n",
    "\n",
    "GLOVE_PATH = '../dataset/GloVe/glove.840B.300d.txt'"
   ]
  },
  {
   "cell_type": "markdown",
   "metadata": {},
   "source": [
    "# Load model"
   ]
  },
  {
   "cell_type": "code",
   "execution_count": 3,
   "metadata": {
    "collapsed": true
   },
   "outputs": [],
   "source": [
    "model = torch.load('infersent.allnli.pickle', map_location=lambda storage, loc: storage)\n",
    "# On CPU, setting the right number of threads with \"torch.set_num_threads(k)\" may improve performance"
   ]
  },
  {
   "cell_type": "code",
   "execution_count": 4,
   "metadata": {
    "collapsed": true
   },
   "outputs": [],
   "source": [
    "model.set_glove_path(GLOVE_PATH)"
   ]
  },
  {
   "cell_type": "code",
   "execution_count": 5,
   "metadata": {},
   "outputs": [
    {
     "name": "stdout",
     "output_type": "stream",
     "text": [
      "Vocab size : 100000\n"
     ]
    }
   ],
   "source": [
    "model.build_vocab_k_words(K=100000)"
   ]
  },
  {
   "cell_type": "markdown",
   "metadata": {},
   "source": [
    "# Load sentences"
   ]
  },
  {
   "cell_type": "code",
   "execution_count": 6,
   "metadata": {},
   "outputs": [
    {
     "name": "stdout",
     "output_type": "stream",
     "text": [
      "101\n"
     ]
    }
   ],
   "source": [
    "# Load some sentences\n",
    "sentences = []\n",
    "with open('text_0_AutomotiveProd7.txt') as f:\n",
    "    i = 1\n",
    "    for line in f:\n",
    "        if i == 1:\n",
    "            sentences.append(line.strip())\n",
    "            i *= -1\n",
    "        else:\n",
    "            i *= -1\n",
    "print(len(sentences))"
   ]
  },
  {
   "cell_type": "code",
   "execution_count": 7,
   "metadata": {},
   "outputs": [
    {
     "data": {
      "text/plain": [
       "['Much needed tool for anyone that has a truck. Fits in any location and allows you to store equipment securely.',\n",
       " \"I have a 2007 Tacoma that I broke the tailgate on, so as a temporary repair I got a tailgate net and one of these bars to help prevent bed flex and also for when there was stuff in the bed. Ratchet mechanism took all of 30 seconds to figure out. Works fine install took maybe 1 minute, and it stays in place. Tightened down a bit and it was secure. The only reason for 4 stars was it does seem a little bit cheap in the material it's made out of but for the price it's great and hopefully it doesn't rust.\",\n",
       " \"Good Cargo Bar.  Doesn't get excessively tight in my truck (thus the 4 stars).  Good construction, use it as a cargo separator under my tonneau cover.\",\n",
       " 'This device works well, especially on narrower truck beds. The ratchet mechanism works better than the screw or collet designs. The ratcheting lever works exactly the same as those found on cargo straps. It is no more hazardous to fingers than any of the many tools that have pinching hazards. The ratchet increments are wide enough that you may need to test where along the the bed wall the bar can be most effectively tightened.',\n",
       " \"Used this in my 2005 Tundra for a few months. It is ok for what it's intended to do, which is be a lightweight cargo divider. You have to make sure you don't ratchet this thing down too hard, if you do, you will regret that last click. Might break a weld on the inside of your bed.This thing was a steal for $25 and free shipping.\"]"
      ]
     },
     "execution_count": 7,
     "metadata": {},
     "output_type": "execute_result"
    }
   ],
   "source": [
    "sentences[:5]"
   ]
  },
  {
   "cell_type": "markdown",
   "metadata": {},
   "source": [
    "# Encode sentences"
   ]
  },
  {
   "cell_type": "code",
   "execution_count": 8,
   "metadata": {},
   "outputs": [
    {
     "name": "stdout",
     "output_type": "stream",
     "text": [
      "Nb words kept : 4758/5377 (88.49 %)\n",
      "Speed : 8.69 sentences/s (cpu mode, bsize=128)\n",
      "nb sentences encoded : 101\n"
     ]
    }
   ],
   "source": [
    "embeddings = model.encode(sentences, bsize=128, tokenize=False, verbose=True)\n",
    "print('nb sentences encoded : {0}'.format(len(embeddings)))"
   ]
  },
  {
   "cell_type": "markdown",
   "metadata": {},
   "source": [
    "# Visualization"
   ]
  },
  {
   "cell_type": "code",
   "execution_count": 9,
   "metadata": {},
   "outputs": [
    {
     "data": {
      "text/plain": [
       "4.7021031"
      ]
     },
     "execution_count": 9,
     "metadata": {},
     "output_type": "execute_result"
    }
   ],
   "source": [
    "np.linalg.norm(model.encode([sentences[0]]))"
   ]
  },
  {
   "cell_type": "code",
   "execution_count": 10,
   "metadata": {
    "collapsed": true
   },
   "outputs": [],
   "source": [
    "def cosine(u, v):\n",
    "    return np.dot(u, v) / (np.linalg.norm(u) * np.linalg.norm(v))"
   ]
  },
  {
   "cell_type": "code",
   "execution_count": 11,
   "metadata": {},
   "outputs": [
    {
     "data": {
      "text/plain": [
       "array([ 0.08670553,  0.04914635,  0.05915082, ..., -0.01867001,\n",
       "       -0.00985753,  0.05564953], dtype=float32)"
      ]
     },
     "execution_count": 11,
     "metadata": {},
     "output_type": "execute_result"
    }
   ],
   "source": [
    "model.encode([sentences[0]])[0]"
   ]
  },
  {
   "cell_type": "code",
   "execution_count": 12,
   "metadata": {},
   "outputs": [
    {
     "data": {
      "text/plain": [
       "0.81201011"
      ]
     },
     "execution_count": 12,
     "metadata": {},
     "output_type": "execute_result"
    }
   ],
   "source": [
    "cosine(model.encode([sentences[0]])[0], model.encode([sentences[3]])[0])"
   ]
  },
  {
   "cell_type": "code",
   "execution_count": 13,
   "metadata": {},
   "outputs": [
    {
     "data": {
      "text/plain": [
       "'Much needed tool for anyone that has a truck. Fits in any location and allows you to store equipment securely.'"
      ]
     },
     "execution_count": 13,
     "metadata": {},
     "output_type": "execute_result"
    }
   ],
   "source": [
    "sentences[0]"
   ]
  },
  {
   "cell_type": "code",
   "execution_count": null,
   "metadata": {},
   "outputs": [
    {
     "data": {
      "text/plain": [
       "'This device works well, especially on narrower truck beds. The ratchet mechanism works better than the screw or collet designs. The ratcheting lever works exactly the same as those found on cargo straps. It is no more hazardous to fingers than any of the many tools that have pinching hazards. The ratchet increments are wide enough that you may need to test where along the the bed wall the bar can be most effectively tightened.'"
      ]
     },
     "execution_count": 14,
     "metadata": {},
     "output_type": "execute_result"
    }
   ],
   "source": [
    "sentences[3]"
   ]
  },
  {
   "cell_type": "code",
   "execution_count": 29,
   "metadata": {},
   "outputs": [
    {
     "name": "stdout",
     "output_type": "stream",
     "text": [
      "Review 0 done.\n",
      "Review 1 done.\n",
      "Review 2 done.\n",
      "Review 3 done.\n",
      "Review 4 done.\n",
      "Review 5 done.\n",
      "Review 6 done.\n",
      "Review 7 done.\n",
      "Review 8 done.\n",
      "Review 9 done.\n",
      "Review 10 done.\n",
      "Review 11 done.\n",
      "Review 12 done.\n",
      "Review 13 done.\n",
      "Review 14 done.\n",
      "Review 15 done.\n",
      "Review 16 done.\n",
      "Review 17 done.\n",
      "Review 18 done.\n",
      "Review 19 done.\n",
      "Review 20 done.\n",
      "Review 21 done.\n",
      "Review 22 done.\n",
      "Review 23 done.\n",
      "Review 24 done.\n",
      "Review 25 done.\n",
      "Review 26 done.\n",
      "Review 27 done.\n",
      "Review 28 done.\n",
      "Review 29 done.\n",
      "Review 30 done.\n",
      "Review 31 done.\n",
      "Review 32 done.\n",
      "Review 33 done.\n",
      "Review 34 done.\n",
      "Review 35 done.\n",
      "Review 36 done.\n",
      "Review 37 done.\n",
      "Review 38 done.\n",
      "Review 39 done.\n",
      "Review 40 done.\n",
      "Review 41 done.\n",
      "Review 42 done.\n",
      "Review 43 done.\n",
      "Review 44 done.\n",
      "Review 45 done.\n",
      "Review 46 done.\n",
      "Review 47 done.\n",
      "Review 48 done.\n",
      "Review 49 done.\n",
      "Review 50 done.\n",
      "Review 51 done.\n",
      "Review 52 done.\n",
      "Review 53 done.\n",
      "Review 54 done.\n",
      "Review 55 done.\n",
      "Review 56 done.\n",
      "Review 57 done.\n",
      "Review 58 done.\n",
      "Review 59 done.\n",
      "Review 60 done.\n",
      "Review 61 done.\n",
      "Review 62 done.\n",
      "Review 63 done.\n",
      "Review 64 done.\n",
      "Review 65 done.\n",
      "Review 66 done.\n",
      "Review 67 done.\n",
      "Review 68 done.\n",
      "Review 69 done.\n",
      "Review 70 done.\n",
      "Review 71 done.\n",
      "Review 72 done.\n",
      "Review 73 done.\n",
      "Review 74 done.\n",
      "Review 75 done.\n",
      "Review 76 done.\n",
      "Review 77 done.\n",
      "Review 78 done.\n",
      "Review 79 done.\n",
      "Review 80 done.\n",
      "Review 81 done.\n",
      "Review 82 done.\n",
      "Review 83 done.\n",
      "Review 84 done.\n",
      "Review 85 done.\n",
      "Review 86 done.\n",
      "Review 87 done.\n",
      "Review 88 done.\n",
      "Review 89 done.\n",
      "Review 90 done.\n",
      "Review 91 done.\n",
      "Review 92 done.\n",
      "Review 93 done.\n",
      "Review 94 done.\n",
      "Review 95 done.\n",
      "Review 96 done.\n",
      "Review 97 done.\n",
      "Review 98 done.\n",
      "Review 99 done.\n",
      "Review 100 done.\n"
     ]
    }
   ],
   "source": [
    "f = open('infersent_results.txt', 'w')\n",
    "for i in range(len(sentences)):\n",
    "    cosine_for_one = []\n",
    "    for j in range(len(sentences)):\n",
    "        if i != j:\n",
    "            cosine_for_one.append([cosine(model.encode([sentences[i]])[0], model.encode([sentences[j]])[0]), i, j])\n",
    "    cosine_for_one = sorted(cosine_for_one, reverse=True)\n",
    "    #print(cosine_for_one)\n",
    "    top_similar = cosine_for_one[:5]\n",
    "    f.write('Similar to review '+str(i+1)+' - '+sentences[i]+\" :\\n\")\n",
    "    for ind, k in enumerate(top_similar):\n",
    "        f.write(str(ind+1) + '. ' + sentences[k[2]]+'\\n')\n",
    "    f.write('\\n')\n",
    "    print('Review '+str(i)+' done.')\n",
    "f.close()"
   ]
  },
  {
   "cell_type": "code",
   "execution_count": null,
   "metadata": {},
   "outputs": [
    {
     "name": "stdout",
     "output_type": "stream",
     "text": [
      "Review 0 done.\n",
      "Review 1 done.\n",
      "Review 2 done.\n"
     ]
    }
   ],
   "source": [
    "f = open('infersent_results_5.txt', 'w')\n",
    "for i in range(5):\n",
    "    cosine_for_one = []\n",
    "    for j in range(len(sentences)):\n",
    "        if i != j:\n",
    "            cosine_for_one.append([cosine(model.encode([sentences[i]])[0], model.encode([sentences[j]])[0]), i, j])\n",
    "    cosine_for_one = sorted(cosine_for_one, reverse=True)\n",
    "    #print(cosine_for_one)\n",
    "    top_similar = cosine_for_one[:5]\n",
    "    f.write('Similar to review '+str(i+1)+' - '+sentences[i]+\" :\\n\")\n",
    "    for ind, k in enumerate(top_similar):\n",
    "        f.write(str(ind+1) + '. ' + str(k[0]) + ' ' + sentences[k[2]]+'\\n')\n",
    "    f.write('\\n')\n",
    "    print('Review '+str(i)+' done.')\n",
    "f.close()"
   ]
  },
  {
   "cell_type": "code",
   "execution_count": null,
   "metadata": {
    "collapsed": true
   },
   "outputs": [],
   "source": []
  }
 ],
 "metadata": {
  "kernelspec": {
   "display_name": "Python 3",
   "language": "python",
   "name": "python3"
  },
  "language_info": {
   "codemirror_mode": {
    "name": "ipython",
    "version": 3
   },
   "file_extension": ".py",
   "mimetype": "text/x-python",
   "name": "python",
   "nbconvert_exporter": "python",
   "pygments_lexer": "ipython3",
   "version": "3.5.2"
  }
 },
 "nbformat": 4,
 "nbformat_minor": 2
}
