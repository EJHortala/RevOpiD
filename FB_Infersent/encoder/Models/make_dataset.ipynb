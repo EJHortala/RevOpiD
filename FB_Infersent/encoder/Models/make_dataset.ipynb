{
 "cells": [
  {
   "cell_type": "code",
   "execution_count": 1,
   "metadata": {},
   "outputs": [
    {
     "name": "stderr",
     "output_type": "stream",
     "text": [
      "Using TensorFlow backend.\n"
     ]
    }
   ],
   "source": [
    "from nltk.stem import WordNetLemmatizer\n",
    "from nltk.corpus import stopwords\n",
    "from nltk import word_tokenize, pos_tag, sent_tokenize, RegexpTokenizer\n",
    "import string, re\n",
    "from autocorrect import spell\n",
    "from nltk.tokenize import TweetTokenizer\n",
    "from nltk.stem.lancaster import LancasterStemmer\n",
    "from nltk.corpus import state_union\n",
    "import nltk\n",
    "import gensim\n",
    "import pandas as pd\n",
    "from sklearn.cluster import KMeans\n",
    "import os\n",
    "import pickle"
   ]
  },
  {
   "cell_type": "code",
   "execution_count": 2,
   "metadata": {},
   "outputs": [],
   "source": [
    "lancaster_stemmer = LancasterStemmer()\n",
    "tknzr = TweetTokenizer()  # This helps maintain apostrophe like \"hasn't\"\n",
    "lemmatizer = WordNetLemmatizer()\n",
    "stop_words = set(stopwords.words(\"english\"))\n",
    "tokenizer = RegexpTokenizer(r'\\w+')\n",
    "\n",
    "RE_D = re.compile('\\d')\n",
    "RE_AP = re.compile(\"'\")\n",
    "RE_DO = re.compile(\"\\.\")\n",
    "\n",
    "path = './TEXT_REVIEWS'\n",
    "dirs = os.listdir(path)"
   ]
  },
  {
   "cell_type": "code",
   "execution_count": 4,
   "metadata": {},
   "outputs": [],
   "source": [
    "db = []\n",
    "docLabel = []\n",
    "dset = 0\n",
    "\n",
    "for File in dirs:\n",
    "    f = open(path+'/'+File,'r')\n",
    "    limit = 0\n",
    "    i = 0\n",
    "    r = []\n",
    "    for l in f:\n",
    "        i+=1\n",
    "        if(i==limit):\n",
    "            break\n",
    "        if(i%2==0):\n",
    "            continue\n",
    "        r.append(l[:-1])\n",
    "    f.close()\n",
    "    for idx,r1 in enumerate(r):\n",
    "        r1 = r1.lower()\n",
    "        r[idx] = tknzr.tokenize(r1)   # or word_tokenize(r1)\n",
    "        for i in range(len(r[idx])):\n",
    "            if ((r[idx][i] not in set(string.punctuation)) and (not (RE_D.search(r[idx][i]))) and (not (RE_AP.search(r[idx][i]))) and (not (RE_DO.search(r[idx][i]))) and (r[idx][i] != 'was') and (r[idx][i] != 'has')):\n",
    "                r[idx][i] = spell(r[idx][i])\n",
    "            if r[idx][i] in stop_words:\n",
    "                r[idx][i] = ''\n",
    "            r[idx][i] = lemmatizer.lemmatize(r[idx][i])  # or lancaster_stemmer.stem(r[idx][i]) but changes the word a lot\n",
    "\n",
    "        r[idx] = (' ').join(r[idx])\n",
    "        r[idx] = r[idx].strip()\n",
    "        r[idx] = r[idx].lower()\n",
    "        r[idx] = re.sub('\\s+', ' ', r[idx])\n",
    "        r[idx] = re.sub(r'\\.([a-zA-Z0-9])', r'. \\1', r[idx])\n",
    "    for ind, item in enumerate(r):\n",
    "        new_list = [a for a in tknzr.tokenize(item) if a not in string.punctuation]\n",
    "        new_string = ' '.join(new_list)\n",
    "        db.append(new_string)\n",
    "        docLabel.append(str(File)[:-4]+'_'+str(ind))\n",
    "    dset += 1"
   ]
  },
  {
   "cell_type": "code",
   "execution_count": 5,
   "metadata": {},
   "outputs": [
    {
     "name": "stdout",
     "output_type": "stream",
     "text": [
      "5918\n",
      "5918\n"
     ]
    }
   ],
   "source": [
    "print(len(db))\n",
    "print(len(docLabel))\n",
    "#print(db[1000])"
   ]
  },
  {
   "cell_type": "code",
   "execution_count": 6,
   "metadata": {
    "collapsed": true
   },
   "outputs": [],
   "source": [
    "with open('db.pickle', 'wb') as handle:\n",
    "    pickle.dump(db, handle, protocol=2)\n",
    "with open('docLabel.pickle', 'wb') as handle:\n",
    "    pickle.dump(docLabel, handle, protocol=2)"
   ]
  },
  {
   "cell_type": "code",
   "execution_count": 8,
   "metadata": {},
   "outputs": [
    {
     "name": "stdout",
     "output_type": "stream",
     "text": [
      "<class 'str'>\n"
     ]
    }
   ],
   "source": [
    "print(type(db[900]))"
   ]
  },
  {
   "cell_type": "code",
   "execution_count": null,
   "metadata": {
    "collapsed": true
   },
   "outputs": [],
   "source": []
  }
 ],
 "metadata": {
  "kernelspec": {
   "display_name": "Python 3",
   "language": "python",
   "name": "python3"
  },
  "language_info": {
   "codemirror_mode": {
    "name": "ipython",
    "version": 3
   },
   "file_extension": ".py",
   "mimetype": "text/x-python",
   "name": "python",
   "nbconvert_exporter": "python",
   "pygments_lexer": "ipython3",
   "version": "3.5.2"
  }
 },
 "nbformat": 4,
 "nbformat_minor": 2
}
