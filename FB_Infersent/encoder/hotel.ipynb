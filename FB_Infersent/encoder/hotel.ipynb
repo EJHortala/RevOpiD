{
 "cells": [
  {
   "cell_type": "code",
   "execution_count": 1,
   "metadata": {
    "collapsed": true
   },
   "outputs": [],
   "source": [
    "# import stuff\n",
    "%load_ext autoreload\n",
    "%autoreload 2\n",
    "%matplotlib inline\n",
    "\n",
    "from random import randint\n",
    "import matplotlib\n",
    "\n",
    "import numpy as np\n",
    "import torch\n",
    "\n",
    "GLOVE_PATH = '../dataset/GloVe/glove.840B.300d.txt'"
   ]
  },
  {
   "cell_type": "code",
   "execution_count": 2,
   "metadata": {
    "collapsed": true
   },
   "outputs": [],
   "source": [
    "model = torch.load('infersent.allnli.pickle', map_location=lambda storage, loc: storage)\n",
    "# On CPU, setting the right number of threads with \"torch.set_num_threads(k)\" may improve performance"
   ]
  },
  {
   "cell_type": "code",
   "execution_count": 3,
   "metadata": {
    "collapsed": true
   },
   "outputs": [],
   "source": [
    "model.set_glove_path(GLOVE_PATH)"
   ]
  },
  {
   "cell_type": "code",
   "execution_count": 4,
   "metadata": {},
   "outputs": [
    {
     "name": "stdout",
     "output_type": "stream",
     "text": [
      "Vocab size : 100000\n"
     ]
    }
   ],
   "source": [
    "model.build_vocab_k_words(K=100000)"
   ]
  },
  {
   "cell_type": "markdown",
   "metadata": {},
   "source": [
    "# Load sentences"
   ]
  },
  {
   "cell_type": "code",
   "execution_count": 5,
   "metadata": {},
   "outputs": [],
   "source": [
    "import string\n",
    "import re\n",
    "from nltk.tokenize import sent_tokenize\n",
    "punct = set(string.punctuation)"
   ]
  },
  {
   "cell_type": "code",
   "execution_count": 6,
   "metadata": {},
   "outputs": [],
   "source": [
    "f = open('hotel_218524.dat', 'r', encoding='utf-8', errors='replace')\n",
    "sentences = []\n",
    "for i in f:\n",
    "    if re.match('<Content>.*', i) and len(i)>150:\n",
    "        temp = str(i[9:len(i)-2])\n",
    "        temp = ''.join(x for x in temp)\n",
    "        sentences.append(temp)"
   ]
  },
  {
   "cell_type": "code",
   "execution_count": 7,
   "metadata": {},
   "outputs": [
    {
     "name": "stderr",
     "output_type": "stream",
     "text": [
      "IOPub data rate exceeded.\n",
      "The notebook server will temporarily stop sending output\n",
      "to the client in order to avoid crashing it.\n",
      "To change this limit, set the config variable\n",
      "`--NotebookApp.iopub_data_rate_limit`.\n"
     ]
    }
   ],
   "source": [
    "print(sentences)"
   ]
  },
  {
   "cell_type": "code",
   "execution_count": 8,
   "metadata": {
    "scrolled": true
   },
   "outputs": [
    {
     "name": "stdout",
     "output_type": "stream",
     "text": [
      "[\"Perfect Honeymoon!!!! We had the most wonderful time at the Excellence. We opted for the Excellence Club and it was well worht it for the perks. Roberto Puello who was the Club Manager did an extra special job of making us feel welcomed! We took some great pictures that looked like postcards. The food was excellent the Pizza was close to being our favorite. The shows were great especially the Michael Jackson and the 70's  80's night. The French resturant was probably our favorite. We will definately be back for an anniversary trip. We made some friends but had plenty of privcacy as well. The rooms were great and everytime we left and came back it was cleaned, towels restocked and the bar was as well!\", 'A truly fantastic place Xmas  We have just returned from a 2 week Xmas  New Year break at the Excellence Punta Cana. The hotel is magnificent and we have never experienced such incredible service before. The restaurants are great, with plenty of choice. The whole complex is so good that we only did one trip and that was for my wife to swim with the dolphins! Great beaches and pools. The staff fall over each other to look after you! We stayed in a junior suite on ground level and it was spotlessly clean, great maid service and room service on tap 24/7. Overall I would say this is probably the best hotel we have ever stayed in on holidayand I am extremely fussy! The journey to the resort is a little uncomfortable, with the roads in a bad state. But once you are checked in the pace of life slows down and you forget about the outside world!Worthy of special mention and our sincere thanks are:Pedro from the Cielo bar/pool an absolute gentleman. Miguel the Bell Boy and also Carlos from the Skay bar.We will definately be booking again, probably for next Christmas!Jim  Eileen (Telford UK)']\n"
     ]
    }
   ],
   "source": [
    "print(sentences[:2])"
   ]
  },
  {
   "cell_type": "code",
   "execution_count": 9,
   "metadata": {
    "collapsed": true
   },
   "outputs": [],
   "source": [
    "sentences_new = []\n",
    "for i in sentences:\n",
    "    sentences_new.extend(sent_tokenize(i))"
   ]
  },
  {
   "cell_type": "code",
   "execution_count": 10,
   "metadata": {},
   "outputs": [
    {
     "name": "stdout",
     "output_type": "stream",
     "text": [
      "['Perfect Honeymoon!!!!', 'We had the most wonderful time at the Excellence.']\n"
     ]
    }
   ],
   "source": [
    "print(sentences_new[:2])"
   ]
  },
  {
   "cell_type": "markdown",
   "metadata": {},
   "source": [
    "# Encode sentences"
   ]
  },
  {
   "cell_type": "code",
   "execution_count": 11,
   "metadata": {},
   "outputs": [
    {
     "name": "stdout",
     "output_type": "stream",
     "text": [
      "Nb words kept : 965026/1093750 (88.23 %)\n",
      "Speed : 48.42 sentences/s (cpu mode, bsize=128)\n",
      "nb sentences encoded : 58997\n"
     ]
    }
   ],
   "source": [
    "embeddings = model.encode(sentences_new, bsize=128, tokenize=False, verbose=True)\n",
    "print('nb sentences encoded : {0}'.format(len(embeddings)))"
   ]
  },
  {
   "cell_type": "code",
   "execution_count": 12,
   "metadata": {},
   "outputs": [
    {
     "name": "stdout",
     "output_type": "stream",
     "text": [
      "(58997, 4096)\n"
     ]
    }
   ],
   "source": [
    "print(embeddings.shape)"
   ]
  },
  {
   "cell_type": "code",
   "execution_count": 14,
   "metadata": {},
   "outputs": [],
   "source": [
    "import pickle\n",
    "with open('hotel_embeddings.pickle', 'wb') as handle:\n",
    "    pickle.dump(embeddings, handle)"
   ]
  },
  {
   "cell_type": "markdown",
   "metadata": {},
   "source": [
    "# Clustering (Spectral)"
   ]
  },
  {
   "cell_type": "code",
   "execution_count": null,
   "metadata": {
    "collapsed": true
   },
   "outputs": [],
   "source": [
    "from sklearn.cluster import SpectralClustering\n",
    "from sklearn import metrics\n",
    "\n",
    "# Spectral Clustering\n",
    "sc = SpectralClustering(50, affinity='nearest_neighbors', n_init=1000)\n",
    "sc.fit(embeddings)\n",
    "print('spectral clustering')\n",
    "print(sc.labels_)"
   ]
  },
  {
   "cell_type": "code",
   "execution_count": null,
   "metadata": {
    "collapsed": true
   },
   "outputs": [],
   "source": []
  }
 ],
 "metadata": {
  "kernelspec": {
   "display_name": "Python 3",
   "language": "python",
   "name": "python3"
  },
  "language_info": {
   "codemirror_mode": {
    "name": "ipython",
    "version": 3
   },
   "file_extension": ".py",
   "mimetype": "text/x-python",
   "name": "python",
   "nbconvert_exporter": "python",
   "pygments_lexer": "ipython3",
   "version": "3.5.2"
  }
 },
 "nbformat": 4,
 "nbformat_minor": 2
}
